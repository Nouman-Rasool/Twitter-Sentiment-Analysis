{
 "cells": [
  {
   "cell_type": "code",
   "execution_count": null,
   "metadata": {},
   "outputs": [],
   "source": [
    "from textblob import TextBlob\n",
    "import sys, tweepy\n",
    "import matplotlib.pyplot as plt\n",
    "\n",
    "def percentage(part, whole):\n",
    "    return 100 * float(part)/float(whole)\n",
    "\n",
    "consumerkey =\"mcFbxcDNaExgw4FE9RKiMg5BN\"\n",
    "consumerSecret =\"sP5D067CsJVaVkVkcbZLuDtg4Zo56U15BLZdnJRi7fKMltuVWN\"\n",
    "accessToken =\"946668670033547264-TMGgKEUIDNljJylPNigjBvTxyFRLLp2\"\n",
    "accessTokenSecret =\"CNVp9hZhS4GUlcm7r6VXlnpGcFw61ZDqVWWlNcPeSwKhc\"\n",
    "auth = tweepy.OAuthHandler(consumer_key=consumerkey, consumer_secret=consumerSecret)\n",
    "auth.set_access_token(accessToken, accessTokenSecret)\n",
    "api = tweepy.API(auth)\n",
    "searchTerm = input(\"Enter Keyword/hashtage to search about:\")\n",
    "noOfSearchTerm = int(input(\"Enter how many tweets to analyze:\"))\n",
    "\n",
    "tweets = tweepy.Cursor(api.search, q=searchTerm, lang=\"English\").items(noOfSearchTerm)\n",
    "\n",
    "positive = 0\n",
    "negative = 0\n",
    "neutral = 0\n",
    "polarity = 0\n",
    "for tweet in tweets:\n",
    "    #print(tweet.text)\n",
    "    analysis = TextBlob(tweet.text)\n",
    "    #polarity += analysis.sentiment.polarity\n",
    "    \n",
    "    if (analysis.sentiment.polarity == 0):\n",
    "        neutral += 1\n",
    "    elif (analysis.sentiment.polarity < 0.00):\n",
    "        negative += 1\n",
    "    elif (analysis.sentiment.polarity > 0.00):\n",
    "        positive += 1\n",
    "positive = percentage(positive, noOfSearchTerm)\n",
    "negative = percentage(negative, noOfSearchTerm)\n",
    "neutral = percentage(neutral, noOfSearchTerm)\n",
    "\n",
    "positive = format(positive, '.2f')\n",
    "neutral = format(neutral, '.2f')\n",
    "negative = format(negative, '.2f')\n",
    "\n",
    "print(\"How people are reacting on\" + searchTerm+ \" by analyzing \" + str(noOfSearchTerm) + \"Tweets.\")\n",
    "if(polarity == 0):\n",
    "    print(\"Neutral\")\n",
    "elif(polarity < 0):\n",
    "    print(\"Negative\")\n",
    "elif(polarity > 0):\n",
    "    print(\"Positive\")\n",
    "    \n",
    "    \n",
    "labels = ['Positive ['+str(positive)+'%]', 'Neutral ['+str(neutral)+'%]', 'Negative ['+str(negative)+'%]']\n",
    "sizes = [positive, neutral, negative]\n",
    "colors = ['yellowgreen', 'gold', 'red']\n",
    "patches, texts = plt.pie(sizes, colors=colors, startangle=90)\n",
    "plt.legend(patches, labels, loc=\"best\")\n",
    "plt.title('How people are reacting on '+searchTerm+' by analyzing '+str(noOfSearchTerm)+' Tweets.')\n",
    "plt.axis('equal')\n",
    "plt.tight_layout()\n",
    "plt.show()"
   ]
  },
  {
   "cell_type": "code",
   "execution_count": null,
   "metadata": {},
   "outputs": [],
   "source": []
  },
  {
   "cell_type": "code",
   "execution_count": null,
   "metadata": {},
   "outputs": [],
   "source": []
  },
  {
   "cell_type": "code",
   "execution_count": null,
   "metadata": {},
   "outputs": [],
   "source": []
  },
  {
   "cell_type": "code",
   "execution_count": null,
   "metadata": {},
   "outputs": [],
   "source": []
  }
 ],
 "metadata": {
  "kernelspec": {
   "display_name": "Python 3",
   "language": "python",
   "name": "python3"
  },
  "language_info": {
   "codemirror_mode": {
    "name": "ipython",
    "version": 3
   },
   "file_extension": ".py",
   "mimetype": "text/x-python",
   "name": "python",
   "nbconvert_exporter": "python",
   "pygments_lexer": "ipython3",
   "version": "3.7.0"
  }
 },
 "nbformat": 4,
 "nbformat_minor": 2
}
